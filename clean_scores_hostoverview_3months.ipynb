{
 "cells": [
  {
   "cell_type": "code",
   "execution_count": 1,
   "metadata": {},
   "outputs": [],
   "source": [
    "import csv\n",
    "import json\n",
    "import re"
   ]
  },
  {
   "cell_type": "code",
   "execution_count": 2,
   "metadata": {},
   "outputs": [],
   "source": [
    "ordo = {\n",
    "\"aznetz\" : 1,\n",
    "\"wirelter\" : 2,\n",
    "\"swissmom\" : 3,\n",
    "\"wildeis\" : 4,\n",
    "\"telezh\" : 5,\n",
    "\"tv24\" : 6,\n",
    "\"telem1\" : 7,\n",
    "\"telebaer\" : 8,\n",
    "\"natuerli\" : 9,\n",
    "\"fitlife\" : 10,\n",
    "\"argovia\" : 11,\n",
    "\"radio24\" : 12,\n",
    "\"myjob\" : 13,\n",
    "\"virgin\" : 14,\n",
    "\"fm1today\" : 15,\n",
    "\"pilatus\" : 16,\n",
    "\"lusonz\" : 17,\n",
    "\"tagblatt\" : 18,\n",
    "\"ojob\" : 19,\n",
    "\"zjob\" : 20\n",
    "}\n",
    "filesys_path = 'files/'\n",
    "file_json_out = 'hostoverview.json'\n",
    "file_csv_out = 'hostoverview.csv'"
   ]
  },
  {
   "cell_type": "code",
   "execution_count": 3,
   "metadata": {},
   "outputs": [],
   "source": [
    "matrix3d = {}\n",
    "# Current: laufender Monat\n",
    "# Previous: Vormonat\n",
    "# CYear: laufender Monat ein Jahr zuvor\n",
    "# Wichtig: der laufende Monat wird NICHT hochgerechnet\n",
    "for filename in ['Current.csv','Previous.csv','CYear.csv']:\n",
    "  matrix3d[filename] = {}\n",
    "  current = {\"meta\" : [],\"data\" : []}\n",
    "  flag = 'False'\n",
    "  with open(filesys_path+filename,'r',encoding=\"utf-8\") as csvfile:\n",
    "    reader = csv.reader(csvfile, delimiter=',', quotechar='\"')\n",
    "    for row in reader:\n",
    "      if flag=='True':\n",
    "        section = 'data'\n",
    "      else:\n",
    "        section = 'meta'\n",
    "      try:\n",
    "        row[0]\n",
    "      except IndexError: # Leere Zeilen werden übersprungen\n",
    "        continue\n",
    "      if row[0]==\"Website\":\n",
    "         row = [\"Ord\"]+row\n",
    "         flag = 'True'\n",
    "      if re.match(\"^[a-z]\",row[0]): # Transformation wird selektiv angewandt\n",
    "        # print(row[0],ordo[row[0]])\n",
    "        row = list(map(lambda x:x.replace('.',''),row))\n",
    "        row = list(map(lambda x:x.replace(',','.'),row))\n",
    "        row = list(map(lambda x:x.replace(' ',''),row))\n",
    "        row = [ordo[row[0]]]+row\n",
    "      else:\n",
    "        if re.match(\".*: .*\",row[0]):\n",
    "          row = row[0].split(\": \")\n",
    "      if row[0] != \"?\": # Zusammenfassungszeilen werden weggeworfen\n",
    "        current[section].append(row)\n",
    "  matrix3d[filename]=current\n",
    "#print(json.dumps(matrix3d))\n",
    "f = open(filesys_path+file_json_out,\"w\")\n",
    "f.write(json.dumps(matrix3d))\n",
    "f.close()"
   ]
  },
  {
   "cell_type": "code",
   "execution_count": 4,
   "metadata": {},
   "outputs": [],
   "source": [
    "import pandas as pd\n"
   ]
  },
  {
   "cell_type": "code",
   "execution_count": 5,
   "metadata": {},
   "outputs": [],
   "source": [
    "df = pd.read_json(filesys_path+file_json_out)"
   ]
  },
  {
   "cell_type": "code",
   "execution_count": 6,
   "metadata": {},
   "outputs": [
    {
     "data": {
      "text/plain": [
       "[[1, 'aznetz', '17668115', '4005811', '4.41', '532464', '76', '335.86'],\n",
       " [17, 'lusonz', '6823992', '2748907', '2.48', '624140', '86', '213.25'],\n",
       " [18, 'tagblatt', '4289643', '1844473', '2.33', '485267', '77', '179.66'],\n",
       " [15, 'fm1today', '3153963', '1000342', '3.15', '169073', '78', '246.58'],\n",
       " [3, 'swissmom', '1722471', '755375', '2.28', '269022', '97', '221.53'],\n",
       " [16, 'pilatus', '1715695', '547827', '3.13', '89936', '74', '232.32'],\n",
       " [4, 'wildeis', '1258515', '533211', '2.36', '204731', '77', '182.37'],\n",
       " [5, 'telezh', '910137', '452778', '2.01', '165675', '115', '230.63'],\n",
       " [19, 'ojob', '774326', '129517', '5.98', '36813', '47', '282.68'],\n",
       " [12, 'radio24', '617676', '313873', '1.97', '68338', '109', '213.59'],\n",
       " [11, 'argovia', '413529', '137779', '3.00', '34110', '95', '284.42'],\n",
       " [6, 'tv24', '353576', '84158', '4.20', '25497', '169', '711.50'],\n",
       " [7, 'telem1', '228006', '101928', '2.24', '46612', '91', '203.29'],\n",
       " [8, 'telebaer', '203132', '96443', '2.11', '37375', '98', '205.59'],\n",
       " [14, 'virgin', '138684', '55255', '2.51', '11948', '132', '332.38'],\n",
       " [2, 'wirelter', '129804', '75179', '1.73', '37978', '86', '147.86'],\n",
       " [13, 'myjob', '113047', '29049', '3.89', '14023', '54', '210.20'],\n",
       " [20, 'zjob', '92117', '22890', '4.02', '10337', '44', '176.78']]"
      ]
     },
     "execution_count": 6,
     "metadata": {},
     "output_type": "execute_result"
    }
   ],
   "source": [
    "df[\"Current.csv\"]['data']"
   ]
  },
  {
   "cell_type": "code",
   "execution_count": 7,
   "metadata": {},
   "outputs": [
    {
     "data": {
      "text/plain": [
       "[[1, 'aznetz', '52141747', '12208275', '4.27', '1922958', '81', '344.68'],\n",
       " [17, 'lusonz', '21996850', '8452505', '2.60', '2008033', '83', '216.44'],\n",
       " [18, 'tagblatt', '14702708', '6199791', '2.37', '2018126', '78', '184.13'],\n",
       " [15, 'fm1today', '9119360', '2909404', '3.13', '539814', '90', '280.97'],\n",
       " [3, 'swissmom', '4482151', '1968678', '2.28', '805323', '99', '225.30'],\n",
       " [19, 'ojob', '3311114', '415561', '7.97', '123749', '38', '302.25'],\n",
       " [16, 'pilatus', '3068374', '1300432', '2.36', '422845', '82', '192.78'],\n",
       " [5, 'telezh', '2491148', '1182018', '2.11', '582700', '118', '249.61'],\n",
       " [4, 'wildeis', '2331464', '957313', '2.44', '453786', '73', '178.29'],\n",
       " [12, 'radio24', '2201548', '1090218', '2.02', '416982', '91', '183.74'],\n",
       " [11, 'argovia', '1125974', '389920', '2.89', '125128', '96', '275.80'],\n",
       " [6, 'tv24', '970804', '215994', '4.49', '103154', '196', '883.01'],\n",
       " [7, 'telem1', '703408', '341573', '2.06', '202917', '99', '203.82'],\n",
       " [8, 'telebaer', '639420', '323689', '1.98', '195457', '106', '209.14'],\n",
       " [14, 'virgin', '362564', '141549', '2.56', '45518', '127', '325.59'],\n",
       " [2, 'wirelter', '315219', '176792', '1.78', '135352', '82', '146.47'],\n",
       " [13, 'myjob', '205073', '57270', '3.58', '36359', '50', '177.33'],\n",
       " [20, 'zjob', '175391', '46954', '3.74', '27591', '43', '161.12']]"
      ]
     },
     "execution_count": 7,
     "metadata": {},
     "output_type": "execute_result"
    }
   ],
   "source": [
    "df[\"Previous.csv\"]['data']"
   ]
  },
  {
   "cell_type": "code",
   "execution_count": 8,
   "metadata": {
    "scrolled": true
   },
   "outputs": [
    {
     "data": {
      "text/plain": [
       "[[1, 'aznetz', '33173367', '6555393', '5.06', '1084332', '61', '309.27'],\n",
       " [17, 'lusonz', '11210018', '3686486', '3.04', '856654', '68', '205.44'],\n",
       " [15, 'fm1today', '7696829', '2198711', '3.50', '285368', '68', '238.74'],\n",
       " [18, 'tagblatt', '7326259', '2209442', '3.32', '672551', '60', '199.06'],\n",
       " [3, 'swissmom', '4144062', '1695822', '2.44', '693856', '92', '225.93'],\n",
       " [19, 'ojob', '3800592', '409176', '9.29', '120828', '35', '328.68'],\n",
       " [4, 'wildeis', '2148375', '782623', '2.75', '383141', '65', '178.07'],\n",
       " [16, 'pilatus', '1013053', '444737', '2.28', '169564', '76', '172.35'],\n",
       " [11, 'argovia', '873767', '244530', '3.57', '74206', '74', '264.56'],\n",
       " [5, 'telezh', '810153', '315911', '2.56', '171315', '111', '285.31'],\n",
       " [12, 'radio24', '709304', '208454', '3.40', '48876', '84', '286.75'],\n",
       " [13, 'myjob', '411836', '95485', '4.31', '62412', '50', '217.24'],\n",
       " [2, 'wirelter', '349042', '148609', '2.35', '112038', '57', '133.16'],\n",
       " [7, 'telem1', '262979', '97745', '2.69', '60997', '83', '224.43'],\n",
       " [14, 'virgin', '208574', '63335', '3.29', '16749', '107', '351.15'],\n",
       " [8, 'telebaer', '202860', '85740', '2.37', '56489', '90', '212.18'],\n",
       " [20, 'zjob', '106276', '27972', '3.80', '17023', '55', '207.53'],\n",
       " [6, 'tv24', '106046', '37470', '2.83', '27131', '60', '169.53']]"
      ]
     },
     "execution_count": 8,
     "metadata": {},
     "output_type": "execute_result"
    }
   ],
   "source": [
    "df[\"CYear.csv\"]['data']"
   ]
  },
  {
   "cell_type": "code",
   "execution_count": 9,
   "metadata": {},
   "outputs": [],
   "source": [
    "try:\n",
    "    with open(filesys_path+file_csv_out,'w') as csvfile:\n",
    "        writer = csv.writer(csvfile)\n",
    "        writer.writerow(['Ord','Website','Pis','Visits','Pis/Visit','Clients','Viewtime','Visits Duration'])\n",
    "        for row in df[\"CYear.csv\"]['data']:\n",
    "            writer.writerow(row)\n",
    "except IOError:\n",
    "    print(\"Error writig file\")\n"
   ]
  },
  {
   "cell_type": "code",
   "execution_count": null,
   "metadata": {},
   "outputs": [],
   "source": []
  },
  {
   "cell_type": "code",
   "execution_count": null,
   "metadata": {},
   "outputs": [],
   "source": []
  }
 ],
 "metadata": {
  "kernelspec": {
   "display_name": "Python 3",
   "language": "python",
   "name": "python3"
  },
  "language_info": {
   "codemirror_mode": {
    "name": "ipython",
    "version": 3
   },
   "file_extension": ".py",
   "mimetype": "text/x-python",
   "name": "python",
   "nbconvert_exporter": "python",
   "pygments_lexer": "ipython3",
   "version": "3.6.9"
  }
 },
 "nbformat": 4,
 "nbformat_minor": 2
}
