{
 "cells": [
  {
   "cell_type": "code",
   "execution_count": null,
   "metadata": {},
   "outputs": [],
   "source": [
    "import csv\n",
    "import json\n",
    "import re"
   ]
  },
  {
   "cell_type": "code",
   "execution_count": null,
   "metadata": {},
   "outputs": [],
   "source": [
    "ordo = {\n",
    "\"aznetz\" : 1,\n",
    "\"wirelter\" : 2,\n",
    "\"swissmom\" : 3,\n",
    "\"wildeis\" : 4,\n",
    "\"telezh\" : 5,\n",
    "\"tv24\" : 6,\n",
    "\"telem1\" : 7,\n",
    "\"telebaer\" : 8,\n",
    "\"natuerli\" : 9,\n",
    "\"fitlife\" : 10,\n",
    "\"argovia\" : 11,\n",
    "\"radio24\" : 12,\n",
    "\"myjob\" : 13,\n",
    "\"virgin\" : 14,\n",
    "\"fm1today\" : 15,\n",
    "\"pilatus\" : 16,\n",
    "\"lusonz\" : 17,\n",
    "\"tagblatt\" : 18,\n",
    "\"ojob\" : 19,\n",
    "\"zjob\" : 20\n",
    "}\n",
    "filesys_path = 'files/'\n",
    "file_json_out = 'hostoverview.json'"
   ]
  },
  {
   "cell_type": "code",
   "execution_count": null,
   "metadata": {},
   "outputs": [],
   "source": [
    "matrix3d = {}\n",
    "# Current: laufender Monat\n",
    "# Previous: Vormonat\n",
    "# CYear: laufender Monat ein Jahr zuvor\n",
    "# Wichtig: der laufende Monat wird NICHT hochgerechnet\n",
    "for filename in ['Current.csv','Previous.csv','CYear.csv']:\n",
    "  matrix3d[filename] = {}\n",
    "  current = {\"meta\" : [],\"data\" : []}\n",
    "  flag = 'False'\n",
    "  with open(filesys_path+filename,'r',encoding=\"utf-8\") as csvfile:\n",
    "    reader = csv.reader(csvfile, delimiter=',', quotechar='\"')\n",
    "    for row in reader:\n",
    "      if flag=='True':\n",
    "        section = 'data'\n",
    "      else:\n",
    "        section = 'meta'\n",
    "      try:\n",
    "        row[0]\n",
    "      except IndexError: # Leere Zeilen werden übersprungen\n",
    "        continue\n",
    "      if row[0]==\"Website\":\n",
    "         row = [\"Ord\"]+row\n",
    "         flag = 'True'\n",
    "      if re.match(\"^[a-z]\",row[0]): # Transformation wird selektiv angewandt\n",
    "        # print(row[0],ordo[row[0]])\n",
    "        row = list(map(lambda x:x.replace('.',''),row))\n",
    "        row = list(map(lambda x:x.replace(',','.'),row))\n",
    "        row = list(map(lambda x:x.replace(' ',''),row))\n",
    "        row = [ordo[row[0]]]+row\n",
    "      else:\n",
    "        if re.match(\".*: .*\",row[0]):\n",
    "          row = row[0].split(\": \")\n",
    "      if row[0] != \"?\": # Zusammenfassungszeilen werden weggeworfen\n",
    "        current[section].append(row)\n",
    "  matrix3d[filename]=current\n",
    "#print(json.dumps(matrix3d))\n",
    "f = open(filesys_path+file_json_out,\"w\")\n",
    "f.write(json.dumps(matrix3d))\n",
    "f.close()"
   ]
  },
  {
   "cell_type": "code",
   "execution_count": null,
   "metadata": {},
   "outputs": [],
   "source": [
    "import pandas as pd\n"
   ]
  },
  {
   "cell_type": "code",
   "execution_count": null,
   "metadata": {},
   "outputs": [],
   "source": [
    "df = pd.read_json(filesys_path+file_json_out)"
   ]
  },
  {
   "cell_type": "code",
   "execution_count": null,
   "metadata": {},
   "outputs": [],
   "source": [
    "df[\"Current.csv\"]['data']"
   ]
  },
  {
   "cell_type": "code",
   "execution_count": null,
   "metadata": {},
   "outputs": [],
   "source": []
  },
  {
   "cell_type": "code",
   "execution_count": null,
   "metadata": {},
   "outputs": [],
   "source": [
    "#with open(filesys_path+file_json_out, 'r') as f:\n",
    "#    data = json.load(f)"
   ]
  },
  {
   "cell_type": "code",
   "execution_count": null,
   "metadata": {},
   "outputs": [],
   "source": []
  }
 ],
 "metadata": {
  "kernelspec": {
   "display_name": "Python 3",
   "language": "python",
   "name": "python3"
  },
  "language_info": {
   "codemirror_mode": {
    "name": "ipython",
    "version": 3
   },
   "file_extension": ".py",
   "mimetype": "text/x-python",
   "name": "python",
   "nbconvert_exporter": "python",
   "pygments_lexer": "ipython3",
   "version": "3.6.9"
  }
 },
 "nbformat": 4,
 "nbformat_minor": 2
}
