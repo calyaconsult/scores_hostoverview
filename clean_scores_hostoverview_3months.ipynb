{
 "cells": [
  {
   "cell_type": "code",
   "execution_count": 1,
   "metadata": {},
   "outputs": [],
   "source": [
    "import csv\n",
    "import json\n",
    "import re"
   ]
  },
  {
   "cell_type": "code",
   "execution_count": 2,
   "metadata": {},
   "outputs": [],
   "source": [
    "def decimal2hms(nmb):\n",
    "    try:\n",
    "        nmb = float(nmb)\n",
    "        hours = int(nmb/3600)\n",
    "        minutes = int((nmb-hours*3600)/60)\n",
    "        seconds = round((nmb-hours*3600-minutes*60))\n",
    "        return \"%02d:%02d:%02d\" % (hours,minutes,seconds)\n",
    "    except ValueError:\n",
    "        return nmb"
   ]
  },
  {
   "cell_type": "code",
   "execution_count": 3,
   "metadata": {},
   "outputs": [],
   "source": [
    "ordo = {\n",
    "\"aznetz\" : 1,\n",
    "\"wirelter\" : 2,\n",
    "\"swissmom\" : 3,\n",
    "\"wildeis\" : 4,\n",
    "\"telezh\" : 5,\n",
    "\"tv24\" : 6,\n",
    "\"telem1\" : 7,\n",
    "\"telebaer\" : 8,\n",
    "\"natuerli\" : 9,\n",
    "\"fitlife\" : 10,\n",
    "\"argovia\" : 11,\n",
    "\"radio24\" : 12,\n",
    "\"myjob\" : 13,\n",
    "\"virgin\" : 14,\n",
    "\"fm1today\" : 15,\n",
    "\"pilatus\" : 16,\n",
    "\"lusonz\" : 17,\n",
    "\"tagblatt\" : 18,\n",
    "\"ojob\" : 19,\n",
    "\"zjob\" : 20\n",
    "}\n",
    "filesys_path = 'files/'\n",
    "file_json_out = 'hostoverview.json'\n",
    "file_csv_out = 'hostoverview.csv'"
   ]
  },
  {
   "cell_type": "code",
   "execution_count": 8,
   "metadata": {},
   "outputs": [],
   "source": [
    "matrix3d = {}\n",
    "# Current: laufender Monat\n",
    "# Previous: Vormonat\n",
    "# CYear: laufender Monat ein Jahr zuvor\n",
    "# Wichtig: der laufende Monat wird NICHT hochgerechnet\n",
    "for filename in ['Current.csv','Previous.csv','CYear.csv']:\n",
    "  matrix3d[filename] = {}\n",
    "  current = {\"meta\" : [],\"data\" : []}\n",
    "  flag = 'False'\n",
    "  with open(filesys_path+filename,'r',encoding=\"utf-8\") as csvfile:\n",
    "    reader = csv.reader(csvfile, delimiter=',', quotechar='\"')\n",
    "    for row in reader:\n",
    "      if flag=='True':\n",
    "        section = 'data'\n",
    "      else:\n",
    "        section = 'meta'\n",
    "      try:\n",
    "        row[0]\n",
    "      except IndexError: # Leere Zeilen werden übersprungen\n",
    "        continue\n",
    "      if row[0]==\"Website\":\n",
    "         row = [\"Ord\"]+row\n",
    "         flag = 'True'\n",
    "      if re.match(\"^[a-z]\",row[0]): # Transformation wird selektiv angewandt\n",
    "        # print(row[0],ordo[row[0]])\n",
    "        row = list(map(lambda x:x.replace('.',''),row))\n",
    "        row = list(map(lambda x:x.replace(',','.'),row))\n",
    "        row = list(map(lambda x:x.replace(' ',''),row))\n",
    "        row[-1] = decimal2hms(row[-1])\n",
    "        row = [ordo[row[0]]]+row\n",
    "      else:\n",
    "        if re.match(\".*: .*\",row[0]):\n",
    "          row = row[0].split(\": \")\n",
    "      if row[0] != \"?\": # Zusammenfassungszeilen werden weggeworfen\n",
    "        current[section].append(row)\n",
    "  matrix3d[filename]=current\n",
    "#print(json.dumps(matrix3d))\n",
    "f = open(filesys_path+file_json_out,\"w\")\n",
    "f.write(json.dumps(matrix3d))\n",
    "f.close()"
   ]
  },
  {
   "cell_type": "code",
   "execution_count": 9,
   "metadata": {},
   "outputs": [],
   "source": [
    "import pandas as pd\n"
   ]
  },
  {
   "cell_type": "code",
   "execution_count": 10,
   "metadata": {},
   "outputs": [],
   "source": [
    "df = pd.read_json(filesys_path+file_json_out)"
   ]
  },
  {
   "cell_type": "code",
   "execution_count": 11,
   "metadata": {},
   "outputs": [
    {
     "data": {
      "text/plain": [
       "[[1, 'aznetz', '17668115', '4005811', '4.41', '532464', '76', '00:05:36'],\n",
       " [17, 'lusonz', '6823992', '2748907', '2.48', '624140', '86', '00:03:33'],\n",
       " [18, 'tagblatt', '4289643', '1844473', '2.33', '485267', '77', '00:02:60'],\n",
       " [15, 'fm1today', '3153963', '1000342', '3.15', '169073', '78', '00:04:07'],\n",
       " [3, 'swissmom', '1722471', '755375', '2.28', '269022', '97', '00:03:42'],\n",
       " [16, 'pilatus', '1715695', '547827', '3.13', '89936', '74', '00:03:52'],\n",
       " [4, 'wildeis', '1258515', '533211', '2.36', '204731', '77', '00:03:02'],\n",
       " [5, 'telezh', '910137', '452778', '2.01', '165675', '115', '00:03:51'],\n",
       " [19, 'ojob', '774326', '129517', '5.98', '36813', '47', '00:04:43'],\n",
       " [12, 'radio24', '617676', '313873', '1.97', '68338', '109', '00:03:34'],\n",
       " [11, 'argovia', '413529', '137779', '3.00', '34110', '95', '00:04:44'],\n",
       " [6, 'tv24', '353576', '84158', '4.20', '25497', '169', '00:11:52'],\n",
       " [7, 'telem1', '228006', '101928', '2.24', '46612', '91', '00:03:23'],\n",
       " [8, 'telebaer', '203132', '96443', '2.11', '37375', '98', '00:03:26'],\n",
       " [14, 'virgin', '138684', '55255', '2.51', '11948', '132', '00:05:32'],\n",
       " [2, 'wirelter', '129804', '75179', '1.73', '37978', '86', '00:02:28'],\n",
       " [13, 'myjob', '113047', '29049', '3.89', '14023', '54', '00:03:30'],\n",
       " [20, 'zjob', '92117', '22890', '4.02', '10337', '44', '00:02:57']]"
      ]
     },
     "execution_count": 11,
     "metadata": {},
     "output_type": "execute_result"
    }
   ],
   "source": [
    "df[\"Current.csv\"]['data']"
   ]
  },
  {
   "cell_type": "code",
   "execution_count": 12,
   "metadata": {},
   "outputs": [
    {
     "data": {
      "text/plain": [
       "[[1, 'aznetz', '52141747', '12208275', '4.27', '1922958', '81', '00:05:45'],\n",
       " [17, 'lusonz', '21996850', '8452505', '2.60', '2008033', '83', '00:03:36'],\n",
       " [18, 'tagblatt', '14702708', '6199791', '2.37', '2018126', '78', '00:03:04'],\n",
       " [15, 'fm1today', '9119360', '2909404', '3.13', '539814', '90', '00:04:41'],\n",
       " [3, 'swissmom', '4482151', '1968678', '2.28', '805323', '99', '00:03:45'],\n",
       " [19, 'ojob', '3311114', '415561', '7.97', '123749', '38', '00:05:02'],\n",
       " [16, 'pilatus', '3068374', '1300432', '2.36', '422845', '82', '00:03:13'],\n",
       " [5, 'telezh', '2491148', '1182018', '2.11', '582700', '118', '00:04:10'],\n",
       " [4, 'wildeis', '2331464', '957313', '2.44', '453786', '73', '00:02:58'],\n",
       " [12, 'radio24', '2201548', '1090218', '2.02', '416982', '91', '00:03:04'],\n",
       " [11, 'argovia', '1125974', '389920', '2.89', '125128', '96', '00:04:36'],\n",
       " [6, 'tv24', '970804', '215994', '4.49', '103154', '196', '00:14:43'],\n",
       " [7, 'telem1', '703408', '341573', '2.06', '202917', '99', '00:03:24'],\n",
       " [8, 'telebaer', '639420', '323689', '1.98', '195457', '106', '00:03:29'],\n",
       " [14, 'virgin', '362564', '141549', '2.56', '45518', '127', '00:05:26'],\n",
       " [2, 'wirelter', '315219', '176792', '1.78', '135352', '82', '00:02:26'],\n",
       " [13, 'myjob', '205073', '57270', '3.58', '36359', '50', '00:02:57'],\n",
       " [20, 'zjob', '175391', '46954', '3.74', '27591', '43', '00:02:41']]"
      ]
     },
     "execution_count": 12,
     "metadata": {},
     "output_type": "execute_result"
    }
   ],
   "source": [
    "df[\"Previous.csv\"]['data']"
   ]
  },
  {
   "cell_type": "code",
   "execution_count": 13,
   "metadata": {
    "scrolled": true
   },
   "outputs": [
    {
     "data": {
      "text/plain": [
       "[[1, 'aznetz', '33173367', '6555393', '5.06', '1084332', '61', '00:05:09'],\n",
       " [17, 'lusonz', '11210018', '3686486', '3.04', '856654', '68', '00:03:25'],\n",
       " [15, 'fm1today', '7696829', '2198711', '3.50', '285368', '68', '00:03:59'],\n",
       " [18, 'tagblatt', '7326259', '2209442', '3.32', '672551', '60', '00:03:19'],\n",
       " [3, 'swissmom', '4144062', '1695822', '2.44', '693856', '92', '00:03:46'],\n",
       " [19, 'ojob', '3800592', '409176', '9.29', '120828', '35', '00:05:29'],\n",
       " [4, 'wildeis', '2148375', '782623', '2.75', '383141', '65', '00:02:58'],\n",
       " [16, 'pilatus', '1013053', '444737', '2.28', '169564', '76', '00:02:52'],\n",
       " [11, 'argovia', '873767', '244530', '3.57', '74206', '74', '00:04:25'],\n",
       " [5, 'telezh', '810153', '315911', '2.56', '171315', '111', '00:04:45'],\n",
       " [12, 'radio24', '709304', '208454', '3.40', '48876', '84', '00:04:47'],\n",
       " [13, 'myjob', '411836', '95485', '4.31', '62412', '50', '00:03:37'],\n",
       " [2, 'wirelter', '349042', '148609', '2.35', '112038', '57', '00:02:13'],\n",
       " [7, 'telem1', '262979', '97745', '2.69', '60997', '83', '00:03:44'],\n",
       " [14, 'virgin', '208574', '63335', '3.29', '16749', '107', '00:05:51'],\n",
       " [8, 'telebaer', '202860', '85740', '2.37', '56489', '90', '00:03:32'],\n",
       " [20, 'zjob', '106276', '27972', '3.80', '17023', '55', '00:03:28'],\n",
       " [6, 'tv24', '106046', '37470', '2.83', '27131', '60', '00:02:50']]"
      ]
     },
     "execution_count": 13,
     "metadata": {},
     "output_type": "execute_result"
    }
   ],
   "source": [
    "df[\"CYear.csv\"]['data']"
   ]
  },
  {
   "cell_type": "code",
   "execution_count": 9,
   "metadata": {},
   "outputs": [],
   "source": [
    "try:\n",
    "    with open(filesys_path+file_csv_out,'w') as csvfile:\n",
    "        writer = csv.writer(csvfile)\n",
    "        writer.writerow(['Ord','Website','Pis','Visits','Pis/Visit','Clients','Viewtime','Visits Duration'])\n",
    "        for row in df[\"CYear.csv\"]['data']:\n",
    "            writer.writerow(row)\n",
    "except IOError:\n",
    "    print(\"Error writig file\")\n"
   ]
  },
  {
   "cell_type": "code",
   "execution_count": null,
   "metadata": {},
   "outputs": [],
   "source": []
  },
  {
   "cell_type": "code",
   "execution_count": null,
   "metadata": {},
   "outputs": [],
   "source": []
  }
 ],
 "metadata": {
  "kernelspec": {
   "display_name": "Python 3",
   "language": "python",
   "name": "python3"
  },
  "language_info": {
   "codemirror_mode": {
    "name": "ipython",
    "version": 3
   },
   "file_extension": ".py",
   "mimetype": "text/x-python",
   "name": "python",
   "nbconvert_exporter": "python",
   "pygments_lexer": "ipython3",
   "version": "3.6.9"
  }
 },
 "nbformat": 4,
 "nbformat_minor": 2
}
