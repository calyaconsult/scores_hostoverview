{
 "cells": [
  {
   "cell_type": "code",
   "execution_count": 1,
   "metadata": {},
   "outputs": [],
   "source": [
    "import csv\n",
    "import json\n",
    "import re"
   ]
  },
  {
   "cell_type": "code",
   "execution_count": 2,
   "metadata": {},
   "outputs": [],
   "source": [
    "def decimal2hms(nmb):\n",
    "    try:\n",
    "        nmb = float(nmb)\n",
    "        hours = int(nmb/3600)\n",
    "        minutes = int((nmb-hours*3600)/60)\n",
    "        seconds = round((nmb-hours*3600-minutes*60))\n",
    "        return \"%02d:%02d:%02d\" % (hours,minutes,seconds)\n",
    "    except ValueError:\n",
    "        return nmb"
   ]
  },
  {
   "cell_type": "code",
   "execution_count": 3,
   "metadata": {},
   "outputs": [],
   "source": [
    "ordo = {\n",
    "\"aznetz\" : 1,\n",
    "\"wirelter\" : 2,\n",
    "\"swissmom\" : 3,\n",
    "\"wildeis\" : 4,\n",
    "\"telezh\" : 5,\n",
    "\"tv24\" : 6,\n",
    "\"telem1\" : 7,\n",
    "\"telebaer\" : 8,\n",
    "\"natuerli\" : 9,\n",
    "\"fitlife\" : 10,\n",
    "\"argovia\" : 11,\n",
    "\"radio24\" : 12,\n",
    "\"myjob\" : 13,\n",
    "\"virgin\" : 14,\n",
    "\"fm1today\" : 15,\n",
    "\"pilatus\" : 16,\n",
    "\"lusonz\" : 17,\n",
    "\"tagblatt\" : 18,\n",
    "\"ojob\" : 19,\n",
    "\"zjob\" : 20\n",
    "}\n",
    "filesys_path = 'files/'\n",
    "file_json_out = 'hostoverview.json'\n",
    "file_csv_out = 'hostoverview.csv'"
   ]
  },
  {
   "cell_type": "code",
   "execution_count": 4,
   "metadata": {},
   "outputs": [],
   "source": [
    "matrix3d = {}\n",
    "# Current: laufender Monat\n",
    "# Previous: Vormonat\n",
    "# CYear: laufender Monat ein Jahr zuvor\n",
    "# Wichtig: der laufende Monat wird NICHT hochgerechnet\n",
    "for filename in ['Current.csv','Previous.csv','CYear.csv']:\n",
    "  matrix3d[filename] = {}\n",
    "  current = {\"meta\" : [],\"data\" : []}\n",
    "  flag = 'False'\n",
    "  with open(filesys_path+filename,'r',encoding=\"utf-8\") as csvfile:\n",
    "    reader = csv.reader(csvfile, delimiter=',', quotechar='\"')\n",
    "    for row in reader:\n",
    "      if flag=='True':\n",
    "        section = 'data'\n",
    "      else:\n",
    "        section = 'meta'\n",
    "      try:\n",
    "        row[0]\n",
    "      except IndexError: # Leere Zeilen werden übersprungen\n",
    "        continue\n",
    "      if row[0]==\"Website\":\n",
    "         row = [\"Ord\"]+row\n",
    "         flag = 'True'\n",
    "      if re.match(\"^[a-z]\",row[0]): # Transformation wird selektiv angewandt\n",
    "        # print(row[0],ordo[row[0]])\n",
    "        row = list(map(lambda x:x.replace('.',''),row))\n",
    "        row = list(map(lambda x:x.replace(',','.'),row))\n",
    "        row = list(map(lambda x:x.replace(' ',''),row))\n",
    "        row[-1] = decimal2hms(row[-1])\n",
    "        row = [ordo[row[0]]]+row\n",
    "      else:\n",
    "        if re.match(\".*: .*\",row[0]):\n",
    "          row = row[0].split(\": \")\n",
    "      if row[0] != \"?\": # Zusammenfassungszeilen werden weggeworfen\n",
    "        current[section].append(row)\n",
    "  matrix3d[filename]=current\n",
    "#print(json.dumps(matrix3d))\n",
    "f = open(filesys_path+file_json_out,\"w\")\n",
    "f.write(json.dumps(matrix3d))\n",
    "f.close()"
   ]
  },
  {
   "cell_type": "code",
   "execution_count": 5,
   "metadata": {},
   "outputs": [],
   "source": [
    "import pandas as pd\n"
   ]
  },
  {
   "cell_type": "code",
   "execution_count": 6,
   "metadata": {},
   "outputs": [],
   "source": [
    "df = pd.read_json(filesys_path+file_json_out)"
   ]
  },
  {
   "cell_type": "code",
   "execution_count": 7,
   "metadata": {},
   "outputs": [
    {
     "data": {
      "text/plain": [
       "[[1, 'aznetz', '22684623', '5080648', '4.46', '2945338', '71', '00:05:18'],\n",
       " [17, 'lusonz', '9347453', '3915018', '2.39', '2804367', '83', '00:03:17'],\n",
       " [18, 'tagblatt', '5645756', '2318835', '2.43', '1801598', '77', '00:03:07'],\n",
       " [15, 'fm1today', '4302229', '1305130', '3.30', '780090', '71', '00:03:53'],\n",
       " [3, 'swissmom', '3067431', '1438593', '2.13', '1175937', '105', '00:03:44'],\n",
       " [16, 'pilatus', '2246444', '741576', '3.03', '476279', '73', '00:03:41'],\n",
       " [4, 'wildeis', '1638514', '672592', '2.44', '556877', '75', '00:03:02'],\n",
       " [19, 'ojob', '1541380', '241446', '6.38', '184021', '46', '00:04:56'],\n",
       " [5, 'telezh', '681718', '292968', '2.33', '255549', '107', '00:04:09'],\n",
       " [12, 'radio24', '525605', '211943', '2.48', '140908', '101', '00:04:10'],\n",
       " [11, 'argovia', '505096', '163025', '3.10', '104941', '93', '00:04:48'],\n",
       " [7, 'telem1', '315896', '157431', '2.01', '143363', '92', '00:03:04'],\n",
       " [13, 'myjob', '253963', '62663', '4.05', '55307', '51', '00:03:28'],\n",
       " [8, 'telebaer', '244049', '109935', '2.22', '95482', '93', '00:03:26'],\n",
       " [2, 'wirelter', '240958', '122505', '1.97', '113688', '69', '00:02:16'],\n",
       " [20, 'zjob', '189361', '49716', '3.81', '43600', '45', '00:02:50'],\n",
       " [14, 'virgin', '183138', '71670', '2.56', '43734', '139', '00:05:56'],\n",
       " [6, 'tv24', '101533', '32104', '3.16', '25994', '123', '00:06:30']]"
      ]
     },
     "execution_count": 7,
     "metadata": {},
     "output_type": "execute_result"
    }
   ],
   "source": [
    "df[\"Current.csv\"]['data']"
   ]
  },
  {
   "cell_type": "code",
   "execution_count": 8,
   "metadata": {},
   "outputs": [
    {
     "data": {
      "text/plain": [
       "[[1, 'aznetz', '43072552', '9758399', '4.41', '1485527', '75', '00:05:29'],\n",
       " [17, 'lusonz', '16358566', '6398827', '2.56', '1580678', '83', '00:03:33'],\n",
       " [18, 'tagblatt', '10370118', '4316579', '2.40', '1503050', '79', '00:03:09'],\n",
       " [15, 'fm1today', '8764869', '2627611', '3.34', '528439', '72', '00:03:60'],\n",
       " [3, 'swissmom', '4599542', '1996191', '2.30', '838312', '98', '00:03:45'],\n",
       " [16, 'pilatus', '4410187', '1388341', '3.18', '296989', '72', '00:03:48'],\n",
       " [4, 'wildeis', '3038190', '1259480', '2.41', '568528', '74', '00:02:59'],\n",
       " [19, 'ojob', '2361387', '372328', '6.34', '117441', '47', '00:04:58'],\n",
       " [5, 'telezh', '1797506', '845933', '2.12', '445785', '112', '00:03:59'],\n",
       " [12, 'radio24', '1321097', '640762', '2.06', '184837', '109', '00:03:45'],\n",
       " [11, 'argovia', '1044670', '362813', '2.88', '117284', '95', '00:04:35'],\n",
       " [6, 'tv24', '560158', '137653', '4.07', '64172', '163', '00:11:02'],\n",
       " [7, 'telem1', '548985', '249716', '2.20', '145426', '89', '00:03:16'],\n",
       " [8, 'telebaer', '439671', '208252', '2.11', '124175', '95', '00:03:20'],\n",
       " [13, 'myjob', '380042', '88097', '4.31', '57256', '52', '00:03:44'],\n",
       " [2, 'wirelter', '357327', '195310', '1.83', '149024', '78', '00:02:23'],\n",
       " [14, 'virgin', '341805', '135863', '2.52', '36392', '138', '00:05:48'],\n",
       " [20, 'zjob', '281601', '65740', '4.28', '38569', '44', '00:03:09']]"
      ]
     },
     "execution_count": 8,
     "metadata": {},
     "output_type": "execute_result"
    }
   ],
   "source": [
    "df[\"Previous.csv\"]['data']"
   ]
  },
  {
   "cell_type": "code",
   "execution_count": 9,
   "metadata": {
    "scrolled": true
   },
   "outputs": [
    {
     "data": {
      "text/plain": [
       "[[1, 'aznetz', '37155051', '7350600', '5.05', '1203440', '61', '00:05:10'],\n",
       " [17, 'lusonz', '12493460', '4034578', '3.10', '931565', '66', '00:03:23'],\n",
       " [15, 'fm1today', '10228401', '2463250', '4.15', '334667', '53', '00:03:41'],\n",
       " [18, 'tagblatt', '8190471', '2510171', '3.26', '775529', '59', '00:03:14'],\n",
       " [3, 'swissmom', '4457184', '1839544', '2.42', '742962', '92', '00:03:44'],\n",
       " [19, 'ojob', '4455382', '441182', '10.10', '125068', '32', '00:05:28'],\n",
       " [4, 'wildeis', '2079073', '778847', '2.67', '372046', '66', '00:02:56'],\n",
       " [16, 'pilatus', '1321410', '493669', '2.68', '183922', '66', '00:02:57'],\n",
       " [11, 'argovia', '967710', '296537', '3.26', '98601', '79', '00:04:19'],\n",
       " [5, 'telezh', '893673', '373415', '2.39', '200414', '116', '00:04:39'],\n",
       " [12, 'radio24', '732301', '205004', '3.57', '43884', '81', '00:04:51'],\n",
       " [13, 'myjob', '461659', '107489', '4.29', '68348', '51', '00:03:39'],\n",
       " [2, 'wirelter', '330331', '152227', '2.17', '113123', '64', '00:02:19'],\n",
       " [14, 'virgin', '284987', '94105', '3.03', '28462', '112', '00:05:38'],\n",
       " [7, 'telem1', '276625', '103487', '2.67', '63543', '83', '00:03:41'],\n",
       " [8, 'telebaer', '230218', '95932', '2.40', '63115', '93', '00:03:42'],\n",
       " [6, 'tv24', '228884', '76450', '2.99', '55132', '86', '00:04:17'],\n",
       " [20, 'zjob', '111144', '30076', '3.70', '18410', '54', '00:03:20']]"
      ]
     },
     "execution_count": 9,
     "metadata": {},
     "output_type": "execute_result"
    }
   ],
   "source": [
    "df[\"CYear.csv\"]['data']"
   ]
  },
  {
   "cell_type": "code",
   "execution_count": 12,
   "metadata": {},
   "outputs": [],
   "source": [
    "try:\n",
    "    with open(filesys_path+file_csv_out,'w') as csvfile:\n",
    "        writer = csv.writer(csvfile)\n",
    "        writer.writerow(['Ord','Website','Pis','Visits','Pis/Visit','Clients','Viewtime','Visits Duration'])\n",
    "        for row in df[\"Current.csv\"]['data']:\n",
    "            writer.writerow(row)\n",
    "except IOError:\n",
    "    print(\"Error writig file\")\n"
   ]
  },
  {
   "cell_type": "code",
   "execution_count": null,
   "metadata": {},
   "outputs": [],
   "source": []
  },
  {
   "cell_type": "code",
   "execution_count": null,
   "metadata": {},
   "outputs": [],
   "source": []
  }
 ],
 "metadata": {
  "kernelspec": {
   "display_name": "Python 3",
   "language": "python",
   "name": "python3"
  },
  "language_info": {
   "codemirror_mode": {
    "name": "ipython",
    "version": 3
   },
   "file_extension": ".py",
   "mimetype": "text/x-python",
   "name": "python",
   "nbconvert_exporter": "python",
   "pygments_lexer": "ipython3",
   "version": "3.6.9"
  }
 },
 "nbformat": 4,
 "nbformat_minor": 2
}
